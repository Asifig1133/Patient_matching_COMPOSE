{
  "nbformat": 4,
  "nbformat_minor": 0,
  "metadata": {
    "colab": {
      "provenance": [],
      "gpuType": "T4"
    },
    "kernelspec": {
      "name": "python3",
      "display_name": "Python 3"
    },
    "language_info": {
      "name": "python"
    },
    "accelerator": "GPU"
  },
  "cells": [
    {
      "cell_type": "code",
      "execution_count": 1,
      "metadata": {
        "colab": {
          "base_uri": "https://localhost:8080/"
        },
        "id": "zMdAJwDOt7Nq",
        "outputId": "1d5fe578-84ec-4452-c1ef-e5a46cf43698"
      },
      "outputs": [
        {
          "output_type": "stream",
          "name": "stdout",
          "text": [
            "Archive:  /content/COMPOSE-master.zip\n",
            "2d5d7d0646bc54dd72688e6b240769b63e0b9ba1\n",
            "   creating: COMPOSE-master/\n",
            "  inflating: COMPOSE-master/README.md  \n",
            "   creating: COMPOSE-master/ehr_data/\n",
            " extracting: COMPOSE-master/ehr_data/README.md  \n",
            "  inflating: COMPOSE-master/ehr_data/diag_list.csv  \n",
            "  inflating: COMPOSE-master/ehr_data/procedure_list.csv  \n",
            "  inflating: COMPOSE-master/ehr_data/product_list.csv  \n",
            "  inflating: COMPOSE-master/ehr_data/records.csv  \n",
            "  inflating: COMPOSE-master/model.py  \n",
            "   creating: COMPOSE-master/save/\n",
            " extracting: COMPOSE-master/save/README.md  \n",
            "  inflating: COMPOSE-master/test_model.py  \n",
            "  inflating: COMPOSE-master/train_model.py  \n",
            "   creating: COMPOSE-master/trial_data/\n",
            " extracting: COMPOSE-master/trial_data/README.md  \n",
            "  inflating: COMPOSE-master/trial_data/trial_list  \n",
            "   creating: COMPOSE-master/utils/\n",
            "  inflating: COMPOSE-master/utils/ECpreprocess.py  \n",
            "  inflating: COMPOSE-master/utils/code_embedding.py  \n",
            "  inflating: COMPOSE-master/utils/filter_trial.py  \n",
            "  inflating: COMPOSE-master/utils/generate_ehr_dataset.py  \n",
            "  inflating: COMPOSE-master/utils/generate_emeddings.py  \n"
          ]
        }
      ],
      "source": [
        "!unzip /content/COMPOSE-master.zip"
      ]
    },
    {
      "cell_type": "code",
      "source": [
        "!cd /content/COMPOSE-master/\n"
      ],
      "metadata": {
        "id": "oJKFG0gUv8N5"
      },
      "execution_count": 12,
      "outputs": []
    },
    {
      "cell_type": "code",
      "source": [],
      "metadata": {
        "colab": {
          "base_uri": "https://localhost:8080/"
        },
        "id": "yI1P9hIOxNp5",
        "outputId": "533b2b3e-9015-4992-c3d2-840e3e916db4"
      },
      "execution_count": 11,
      "outputs": [
        {
          "output_type": "stream",
          "name": "stdout",
          "text": [
            "\u001b[0m\u001b[01;34mCOMPOSE-master\u001b[0m/  COMPOSE-master.zip  \u001b[01;34msample_data\u001b[0m/\n"
          ]
        }
      ]
    },
    {
      "cell_type": "code",
      "source": [
        "!python COMPOSE-master/utils/ECpreprocess.py"
      ],
      "metadata": {
        "id": "dnVrBkwDxJlM"
      },
      "execution_count": 16,
      "outputs": []
    },
    {
      "cell_type": "code",
      "source": [
        "!pip install pytorch-pretrained-bert"
      ],
      "metadata": {
        "colab": {
          "base_uri": "https://localhost:8080/"
        },
        "id": "teSPyVDOz8Q2",
        "outputId": "2e81cfd8-e929-49cf-848f-809f6154c5c7"
      },
      "execution_count": 18,
      "outputs": [
        {
          "output_type": "stream",
          "name": "stdout",
          "text": [
            "Collecting pytorch-pretrained-bert\n",
            "  Downloading pytorch_pretrained_bert-0.6.2-py3-none-any.whl (123 kB)\n",
            "\u001b[2K     \u001b[90m━━━━━━━━━━━━━━━━━━━━━━━━━━━━━━━━━━━━━━━━\u001b[0m \u001b[32m123.8/123.8 kB\u001b[0m \u001b[31m1.6 MB/s\u001b[0m eta \u001b[36m0:00:00\u001b[0m\n",
            "\u001b[?25hRequirement already satisfied: torch>=0.4.1 in /usr/local/lib/python3.10/dist-packages (from pytorch-pretrained-bert) (2.2.1+cu121)\n",
            "Requirement already satisfied: numpy in /usr/local/lib/python3.10/dist-packages (from pytorch-pretrained-bert) (1.25.2)\n",
            "Collecting boto3 (from pytorch-pretrained-bert)\n",
            "  Downloading boto3-1.34.74-py3-none-any.whl (139 kB)\n",
            "\u001b[2K     \u001b[90m━━━━━━━━━━━━━━━━━━━━━━━━━━━━━━━━━━━━━━━━\u001b[0m \u001b[32m139.3/139.3 kB\u001b[0m \u001b[31m8.4 MB/s\u001b[0m eta \u001b[36m0:00:00\u001b[0m\n",
            "\u001b[?25hRequirement already satisfied: requests in /usr/local/lib/python3.10/dist-packages (from pytorch-pretrained-bert) (2.31.0)\n",
            "Requirement already satisfied: tqdm in /usr/local/lib/python3.10/dist-packages (from pytorch-pretrained-bert) (4.66.2)\n",
            "Requirement already satisfied: regex in /usr/local/lib/python3.10/dist-packages (from pytorch-pretrained-bert) (2023.12.25)\n",
            "Requirement already satisfied: filelock in /usr/local/lib/python3.10/dist-packages (from torch>=0.4.1->pytorch-pretrained-bert) (3.13.3)\n",
            "Requirement already satisfied: typing-extensions>=4.8.0 in /usr/local/lib/python3.10/dist-packages (from torch>=0.4.1->pytorch-pretrained-bert) (4.10.0)\n",
            "Requirement already satisfied: sympy in /usr/local/lib/python3.10/dist-packages (from torch>=0.4.1->pytorch-pretrained-bert) (1.12)\n",
            "Requirement already satisfied: networkx in /usr/local/lib/python3.10/dist-packages (from torch>=0.4.1->pytorch-pretrained-bert) (3.2.1)\n",
            "Requirement already satisfied: jinja2 in /usr/local/lib/python3.10/dist-packages (from torch>=0.4.1->pytorch-pretrained-bert) (3.1.3)\n",
            "Requirement already satisfied: fsspec in /usr/local/lib/python3.10/dist-packages (from torch>=0.4.1->pytorch-pretrained-bert) (2023.6.0)\n",
            "Collecting nvidia-cuda-nvrtc-cu12==12.1.105 (from torch>=0.4.1->pytorch-pretrained-bert)\n",
            "  Downloading nvidia_cuda_nvrtc_cu12-12.1.105-py3-none-manylinux1_x86_64.whl (23.7 MB)\n",
            "\u001b[2K     \u001b[90m━━━━━━━━━━━━━━━━━━━━━━━━━━━━━━━━━━━━━━━━\u001b[0m \u001b[32m23.7/23.7 MB\u001b[0m \u001b[31m49.7 MB/s\u001b[0m eta \u001b[36m0:00:00\u001b[0m\n",
            "\u001b[?25hCollecting nvidia-cuda-runtime-cu12==12.1.105 (from torch>=0.4.1->pytorch-pretrained-bert)\n",
            "  Downloading nvidia_cuda_runtime_cu12-12.1.105-py3-none-manylinux1_x86_64.whl (823 kB)\n",
            "\u001b[2K     \u001b[90m━━━━━━━━━━━━━━━━━━━━━━━━━━━━━━━━━━━━━━━━\u001b[0m \u001b[32m823.6/823.6 kB\u001b[0m \u001b[31m56.5 MB/s\u001b[0m eta \u001b[36m0:00:00\u001b[0m\n",
            "\u001b[?25hCollecting nvidia-cuda-cupti-cu12==12.1.105 (from torch>=0.4.1->pytorch-pretrained-bert)\n",
            "  Downloading nvidia_cuda_cupti_cu12-12.1.105-py3-none-manylinux1_x86_64.whl (14.1 MB)\n",
            "\u001b[2K     \u001b[90m━━━━━━━━━━━━━━━━━━━━━━━━━━━━━━━━━━━━━━━━\u001b[0m \u001b[32m14.1/14.1 MB\u001b[0m \u001b[31m54.4 MB/s\u001b[0m eta \u001b[36m0:00:00\u001b[0m\n",
            "\u001b[?25hCollecting nvidia-cudnn-cu12==8.9.2.26 (from torch>=0.4.1->pytorch-pretrained-bert)\n",
            "  Downloading nvidia_cudnn_cu12-8.9.2.26-py3-none-manylinux1_x86_64.whl (731.7 MB)\n",
            "\u001b[2K     \u001b[90m━━━━━━━━━━━━━━━━━━━━━━━━━━━━━━━━━━━━━━━━\u001b[0m \u001b[32m731.7/731.7 MB\u001b[0m \u001b[31m1.9 MB/s\u001b[0m eta \u001b[36m0:00:00\u001b[0m\n",
            "\u001b[?25hCollecting nvidia-cublas-cu12==12.1.3.1 (from torch>=0.4.1->pytorch-pretrained-bert)\n",
            "  Downloading nvidia_cublas_cu12-12.1.3.1-py3-none-manylinux1_x86_64.whl (410.6 MB)\n",
            "\u001b[2K     \u001b[90m━━━━━━━━━━━━━━━━━━━━━━━━━━━━━━━━━━━━━━━━\u001b[0m \u001b[32m410.6/410.6 MB\u001b[0m \u001b[31m2.0 MB/s\u001b[0m eta \u001b[36m0:00:00\u001b[0m\n",
            "\u001b[?25hCollecting nvidia-cufft-cu12==11.0.2.54 (from torch>=0.4.1->pytorch-pretrained-bert)\n",
            "  Downloading nvidia_cufft_cu12-11.0.2.54-py3-none-manylinux1_x86_64.whl (121.6 MB)\n",
            "\u001b[2K     \u001b[90m━━━━━━━━━━━━━━━━━━━━━━━━━━━━━━━━━━━━━━━━\u001b[0m \u001b[32m121.6/121.6 MB\u001b[0m \u001b[31m2.1 MB/s\u001b[0m eta \u001b[36m0:00:00\u001b[0m\n",
            "\u001b[?25hCollecting nvidia-curand-cu12==10.3.2.106 (from torch>=0.4.1->pytorch-pretrained-bert)\n",
            "  Downloading nvidia_curand_cu12-10.3.2.106-py3-none-manylinux1_x86_64.whl (56.5 MB)\n",
            "\u001b[2K     \u001b[90m━━━━━━━━━━━━━━━━━━━━━━━━━━━━━━━━━━━━━━━━\u001b[0m \u001b[32m56.5/56.5 MB\u001b[0m \u001b[31m2.2 MB/s\u001b[0m eta \u001b[36m0:00:00\u001b[0m\n",
            "\u001b[?25hCollecting nvidia-cusolver-cu12==11.4.5.107 (from torch>=0.4.1->pytorch-pretrained-bert)\n",
            "  Downloading nvidia_cusolver_cu12-11.4.5.107-py3-none-manylinux1_x86_64.whl (124.2 MB)\n",
            "\u001b[2K     \u001b[90m━━━━━━━━━━━━━━━━━━━━━━━━━━━━━━━━━━━━━━━━\u001b[0m \u001b[32m124.2/124.2 MB\u001b[0m \u001b[31m2.1 MB/s\u001b[0m eta \u001b[36m0:00:00\u001b[0m\n",
            "\u001b[?25hCollecting nvidia-cusparse-cu12==12.1.0.106 (from torch>=0.4.1->pytorch-pretrained-bert)\n",
            "  Downloading nvidia_cusparse_cu12-12.1.0.106-py3-none-manylinux1_x86_64.whl (196.0 MB)\n",
            "\u001b[2K     \u001b[90m━━━━━━━━━━━━━━━━━━━━━━━━━━━━━━━━━━━━━━━━\u001b[0m \u001b[32m196.0/196.0 MB\u001b[0m \u001b[31m2.0 MB/s\u001b[0m eta \u001b[36m0:00:00\u001b[0m\n",
            "\u001b[?25hCollecting nvidia-nccl-cu12==2.19.3 (from torch>=0.4.1->pytorch-pretrained-bert)\n",
            "  Downloading nvidia_nccl_cu12-2.19.3-py3-none-manylinux1_x86_64.whl (166.0 MB)\n",
            "\u001b[2K     \u001b[90m━━━━━━━━━━━━━━━━━━━━━━━━━━━━━━━━━━━━━━━━\u001b[0m \u001b[32m166.0/166.0 MB\u001b[0m \u001b[31m1.9 MB/s\u001b[0m eta \u001b[36m0:00:00\u001b[0m\n",
            "\u001b[?25hCollecting nvidia-nvtx-cu12==12.1.105 (from torch>=0.4.1->pytorch-pretrained-bert)\n",
            "  Downloading nvidia_nvtx_cu12-12.1.105-py3-none-manylinux1_x86_64.whl (99 kB)\n",
            "\u001b[2K     \u001b[90m━━━━━━━━━━━━━━━━━━━━━━━━━━━━━━━━━━━━━━━━\u001b[0m \u001b[32m99.1/99.1 kB\u001b[0m \u001b[31m2.2 MB/s\u001b[0m eta \u001b[36m0:00:00\u001b[0m\n",
            "\u001b[?25hRequirement already satisfied: triton==2.2.0 in /usr/local/lib/python3.10/dist-packages (from torch>=0.4.1->pytorch-pretrained-bert) (2.2.0)\n",
            "Collecting nvidia-nvjitlink-cu12 (from nvidia-cusolver-cu12==11.4.5.107->torch>=0.4.1->pytorch-pretrained-bert)\n",
            "  Downloading nvidia_nvjitlink_cu12-12.4.99-py3-none-manylinux2014_x86_64.whl (21.1 MB)\n",
            "\u001b[2K     \u001b[90m━━━━━━━━━━━━━━━━━━━━━━━━━━━━━━━━━━━━━━━━\u001b[0m \u001b[32m21.1/21.1 MB\u001b[0m \u001b[31m2.8 MB/s\u001b[0m eta \u001b[36m0:00:00\u001b[0m\n",
            "\u001b[?25hCollecting botocore<1.35.0,>=1.34.74 (from boto3->pytorch-pretrained-bert)\n",
            "  Downloading botocore-1.34.74-py3-none-any.whl (12.1 MB)\n",
            "\u001b[2K     \u001b[90m━━━━━━━━━━━━━━━━━━━━━━━━━━━━━━━━━━━━━━━━\u001b[0m \u001b[32m12.1/12.1 MB\u001b[0m \u001b[31m2.3 MB/s\u001b[0m eta \u001b[36m0:00:00\u001b[0m\n",
            "\u001b[?25hCollecting jmespath<2.0.0,>=0.7.1 (from boto3->pytorch-pretrained-bert)\n",
            "  Downloading jmespath-1.0.1-py3-none-any.whl (20 kB)\n",
            "Collecting s3transfer<0.11.0,>=0.10.0 (from boto3->pytorch-pretrained-bert)\n",
            "  Downloading s3transfer-0.10.1-py3-none-any.whl (82 kB)\n",
            "\u001b[2K     \u001b[90m━━━━━━━━━━━━━━━━━━━━━━━━━━━━━━━━━━━━━━━━\u001b[0m \u001b[32m82.2/82.2 kB\u001b[0m \u001b[31m2.9 MB/s\u001b[0m eta \u001b[36m0:00:00\u001b[0m\n",
            "\u001b[?25hRequirement already satisfied: charset-normalizer<4,>=2 in /usr/local/lib/python3.10/dist-packages (from requests->pytorch-pretrained-bert) (3.3.2)\n",
            "Requirement already satisfied: idna<4,>=2.5 in /usr/local/lib/python3.10/dist-packages (from requests->pytorch-pretrained-bert) (3.6)\n",
            "Requirement already satisfied: urllib3<3,>=1.21.1 in /usr/local/lib/python3.10/dist-packages (from requests->pytorch-pretrained-bert) (2.0.7)\n",
            "Requirement already satisfied: certifi>=2017.4.17 in /usr/local/lib/python3.10/dist-packages (from requests->pytorch-pretrained-bert) (2024.2.2)\n",
            "Requirement already satisfied: python-dateutil<3.0.0,>=2.1 in /usr/local/lib/python3.10/dist-packages (from botocore<1.35.0,>=1.34.74->boto3->pytorch-pretrained-bert) (2.8.2)\n",
            "Requirement already satisfied: MarkupSafe>=2.0 in /usr/local/lib/python3.10/dist-packages (from jinja2->torch>=0.4.1->pytorch-pretrained-bert) (2.1.5)\n",
            "Requirement already satisfied: mpmath>=0.19 in /usr/local/lib/python3.10/dist-packages (from sympy->torch>=0.4.1->pytorch-pretrained-bert) (1.3.0)\n",
            "Requirement already satisfied: six>=1.5 in /usr/local/lib/python3.10/dist-packages (from python-dateutil<3.0.0,>=2.1->botocore<1.35.0,>=1.34.74->boto3->pytorch-pretrained-bert) (1.16.0)\n",
            "Installing collected packages: nvidia-nvtx-cu12, nvidia-nvjitlink-cu12, nvidia-nccl-cu12, nvidia-curand-cu12, nvidia-cufft-cu12, nvidia-cuda-runtime-cu12, nvidia-cuda-nvrtc-cu12, nvidia-cuda-cupti-cu12, nvidia-cublas-cu12, jmespath, nvidia-cusparse-cu12, nvidia-cudnn-cu12, botocore, s3transfer, nvidia-cusolver-cu12, boto3, pytorch-pretrained-bert\n",
            "Successfully installed boto3-1.34.74 botocore-1.34.74 jmespath-1.0.1 nvidia-cublas-cu12-12.1.3.1 nvidia-cuda-cupti-cu12-12.1.105 nvidia-cuda-nvrtc-cu12-12.1.105 nvidia-cuda-runtime-cu12-12.1.105 nvidia-cudnn-cu12-8.9.2.26 nvidia-cufft-cu12-11.0.2.54 nvidia-curand-cu12-10.3.2.106 nvidia-cusolver-cu12-11.4.5.107 nvidia-cusparse-cu12-12.1.0.106 nvidia-nccl-cu12-2.19.3 nvidia-nvjitlink-cu12-12.4.99 nvidia-nvtx-cu12-12.1.105 pytorch-pretrained-bert-0.6.2 s3transfer-0.10.1\n"
          ]
        }
      ]
    },
    {
      "cell_type": "code",
      "source": [
        "!wget -O pretrained_bert_tf.tar.gz https://www.dropbox.com/s/8armk04fu16algz/pretrained_bert_tf.tar.gz?dl=1"
      ],
      "metadata": {
        "id": "ttaPwX0B2Q5R"
      },
      "execution_count": null,
      "outputs": []
    },
    {
      "cell_type": "code",
      "source": [
        "!tar -xzvf \"/content/pretrained_bert_tf.tar.gz\" -C \"/content/pretrained_bert_tf/\""
      ],
      "metadata": {
        "colab": {
          "base_uri": "https://localhost:8080/"
        },
        "id": "bXdER5zU3y6e",
        "outputId": "bd6490a4-4b16-4890-e36b-315697a81473"
      },
      "execution_count": 3,
      "outputs": [
        {
          "output_type": "stream",
          "name": "stdout",
          "text": [
            "pretrained_bert_tf/\n",
            "pretrained_bert_tf/biobert_pretrain_output_all_notes_150000.tar.gz\n",
            "pretrained_bert_tf/bert_pretrain_output_all_notes_150000.tar.gz\n",
            "pretrained_bert_tf/bert_pretrain_output_disch_100000.tar.gz\n",
            "pretrained_bert_tf/biobert_pretrain_output_disch_100000.tar.gz\n"
          ]
        }
      ]
    },
    {
      "cell_type": "code",
      "source": [
        "!tar -xzvf \"/content/pretrained_bert_tf/biobert_pretrain_output_all_notes_150000.tar.gz\" -C \"/content/pretrained_bert_tf/biobert_pretrain_output_all_notes_150000/\""
      ],
      "metadata": {
        "colab": {
          "base_uri": "https://localhost:8080/"
        },
        "id": "3gpI-EoLEFfA",
        "outputId": "82a14a69-0339-4e59-8b86-df09ae820192"
      },
      "execution_count": 7,
      "outputs": [
        {
          "output_type": "stream",
          "name": "stdout",
          "text": [
            "biobert_pretrain_output_all_notes_150000/\n",
            "biobert_pretrain_output_all_notes_150000/model.ckpt-150000.index\n",
            "biobert_pretrain_output_all_notes_150000/model.ckpt-150000.meta\n",
            "biobert_pretrain_output_all_notes_150000/graph.pbtxt\n",
            "biobert_pretrain_output_all_notes_150000/bert_config.json\n",
            "biobert_pretrain_output_all_notes_150000/vocab.txt\n",
            "biobert_pretrain_output_all_notes_150000/pytorch_model.bin\n",
            "biobert_pretrain_output_all_notes_150000/model.ckpt-150000.data-00000-of-00001\n"
          ]
        }
      ]
    },
    {
      "cell_type": "code",
      "source": [
        "# from transformers import AutoTokenizer, AutoModel\n",
        "# tokenizer = AutoTokenizer.from_pretrained(\"emilyalsentzer/Bio_ClinicalBERT\")\n",
        "# model = AutoModel.from_pretrained(\"emilyalsentzer/Bio_ClinicalBERT\")"
      ],
      "metadata": {
        "id": "X5rFNJEL74JC"
      },
      "execution_count": 6,
      "outputs": []
    },
    {
      "cell_type": "code",
      "source": [
        "!python /content/COMPOSE-master/utils/generate_emeddings.py"
      ],
      "metadata": {
        "colab": {
          "base_uri": "https://localhost:8080/"
        },
        "id": "CsSlQ8U4yCMh",
        "outputId": "86794728-e696-4f99-f56d-45e65b343cff"
      },
      "execution_count": 8,
      "outputs": [
        {
          "output_type": "stream",
          "name": "stdout",
          "text": [
            "04/01/2024 19:11:38 - INFO - __main__ -   device: cuda n_gpu: 1, distributed training: False, 16-bits training: False\n",
            "04/01/2024 19:11:38 - INFO - pytorch_pretrained_bert.tokenization -   loading vocabulary file /content/pretrained_bert_tf/biobert_pretrain_output_all_notes_150000/biobert_pretrain_output_all_notes_150000/vocab.txt\n",
            "04/01/2024 19:11:38 - INFO - pytorch_pretrained_bert.modeling -   loading archive file /content/pretrained_bert_tf/biobert_pretrain_output_all_notes_150000/biobert_pretrain_output_all_notes_150000/\n",
            "04/01/2024 19:11:38 - INFO - pytorch_pretrained_bert.modeling -   Model config {\n",
            "  \"attention_probs_dropout_prob\": 0.1,\n",
            "  \"hidden_act\": \"gelu\",\n",
            "  \"hidden_dropout_prob\": 0.1,\n",
            "  \"hidden_size\": 768,\n",
            "  \"initializer_range\": 0.02,\n",
            "  \"intermediate_size\": 3072,\n",
            "  \"max_position_embeddings\": 512,\n",
            "  \"num_attention_heads\": 12,\n",
            "  \"num_hidden_layers\": 12,\n",
            "  \"type_vocab_size\": 2,\n",
            "  \"vocab_size\": 28996\n",
            "}\n",
            "\n",
            "100% 590/590 [03:06<00:00,  3.16it/s]\n"
          ]
        }
      ]
    },
    {
      "cell_type": "code",
      "source": [
        "!python /content/COMPOSE-master/utils/code_embedding.py"
      ],
      "metadata": {
        "colab": {
          "base_uri": "https://localhost:8080/"
        },
        "id": "61zwnD02FhPA",
        "outputId": "2c193023-c561-422c-b8e8-816a9a937054"
      },
      "execution_count": 17,
      "outputs": [
        {
          "output_type": "stream",
          "name": "stdout",
          "text": [
            "04/01/2024 19:49:51 - INFO - __main__ -   device: cuda n_gpu: 1, distributed training: False, 16-bits training: False\n",
            "04/01/2024 19:49:51 - INFO - pytorch_pretrained_bert.tokenization -   loading vocabulary file /content/pretrained_bert_tf/biobert_pretrain_output_all_notes_150000/biobert_pretrain_output_all_notes_150000/vocab.txt\n",
            "04/01/2024 19:49:51 - INFO - pytorch_pretrained_bert.modeling -   loading archive file /content/pretrained_bert_tf/biobert_pretrain_output_all_notes_150000/biobert_pretrain_output_all_notes_150000/\n",
            "04/01/2024 19:49:51 - INFO - pytorch_pretrained_bert.modeling -   Model config {\n",
            "  \"attention_probs_dropout_prob\": 0.1,\n",
            "  \"hidden_act\": \"gelu\",\n",
            "  \"hidden_dropout_prob\": 0.1,\n",
            "  \"hidden_size\": 768,\n",
            "  \"initializer_range\": 0.02,\n",
            "  \"intermediate_size\": 3072,\n",
            "  \"max_position_embeddings\": 512,\n",
            "  \"num_attention_heads\": 12,\n",
            "  \"num_hidden_layers\": 12,\n",
            "  \"type_vocab_size\": 2,\n",
            "  \"vocab_size\": 28996\n",
            "}\n",
            "\n",
            "36it [00:03, 10.06it/s]\n",
            "Finish diagnosis code\n",
            "9it [00:00, 16.23it/s]\n",
            "Finish diagnosis code\n",
            "12it [00:00, 16.07it/s]\n",
            "Finish product code\n"
          ]
        }
      ]
    },
    {
      "cell_type": "code",
      "source": [
        "!python /content/COMPOSE-master/utils/generate_ehr_dataset.py"
      ],
      "metadata": {
        "colab": {
          "base_uri": "https://localhost:8080/"
        },
        "id": "4puEzrxtGc6Z",
        "outputId": "946721d4-0d97-4243-eada-a07f221ad588"
      },
      "execution_count": 18,
      "outputs": [
        {
          "output_type": "stream",
          "name": "stdout",
          "text": [
            "04/01/2024 19:51:03 - INFO - __main__ -   device: cuda n_gpu: 1, distributed training: False, 16-bits training: False\n"
          ]
        }
      ]
    },
    {
      "cell_type": "code",
      "source": [
        "!python /content/COMPOSE-master/train_model.py"
      ],
      "metadata": {
        "colab": {
          "base_uri": "https://localhost:8080/"
        },
        "id": "2PMG-DPBN26X",
        "outputId": "d8514b50-ddf4-482e-b383-844556cf8603"
      },
      "execution_count": 29,
      "outputs": [
        {
          "output_type": "stream",
          "name": "stdout",
          "text": [
            "04/01/2024 20:20:52 - INFO - __main__ -   device: cuda n_gpu: 1, distributed training: False, 16-bits training: False\n",
            "[[['nan', 1, 1.0], ['G35', 2, 'nan']], [['G43711', 1, 'nan'], ['G500', 3, 1.0], ['nan', 1, 1.0]], [['nan', 1, 1.0], ['G35', 2, 'nan']], [['G43711', 1, 'nan'], ['G500', 3, 1.0], ['nan', 1, 1.0]], [['nan', 1, 1.0], ['G35', 2, 'nan']]]\n",
            "0 3\n",
            "[0, 0, 0]\n",
            "Traceback (most recent call last):\n",
            "  File \"/content/COMPOSE-master/train_model.py\", line 149, in <module>\n",
            "    batch_ehr, batch_ehr_mask, batch_demo, batch_criteria, batch_criteria_mask, batch_label = get_batch(0, 3, 'train')\n",
            "  File \"/content/COMPOSE-master/train_model.py\", line 76, in get_batch\n",
            "    ehr = np.array(train_ehr_dataset)[batch_id]\n",
            "ValueError: setting an array element with a sequence. The requested array has an inhomogeneous shape after 1 dimensions. The detected shape was (5,) + inhomogeneous part.\n"
          ]
        }
      ]
    },
    {
      "cell_type": "code",
      "source": [
        "# !zip /content/COMPOSE-master\n",
        "\n",
        "!zip -r '/content/folder/\"Compose_tested.zip\"' '/content/\"COMPOSE-master\"'"
      ],
      "metadata": {
        "colab": {
          "base_uri": "https://localhost:8080/"
        },
        "id": "Q70y4cBeU7Rz",
        "outputId": "aab8a0dd-86c5-4f5e-e6e8-7293da60f8f5"
      },
      "execution_count": 32,
      "outputs": [
        {
          "output_type": "stream",
          "name": "stdout",
          "text": [
            "\tzip warning: name not matched: /content/\"COMPOSE-master\"\n",
            "\n",
            "zip error: Nothing to do! (try: zip -r /content/folder/\"Compose_tested.zip\" . -i /content/\"COMPOSE-master\")\n"
          ]
        }
      ]
    },
    {
      "cell_type": "code",
      "source": [
        "!zip -r /content/file.zip /content/COMPOSE-master"
      ],
      "metadata": {
        "colab": {
          "base_uri": "https://localhost:8080/"
        },
        "id": "7H4nlYiuWMbT",
        "outputId": "ea184800-1dcd-4a6c-adc2-0e231407c001"
      },
      "execution_count": 37,
      "outputs": [
        {
          "output_type": "stream",
          "name": "stdout",
          "text": [
            "  adding: content/COMPOSE-master/ (stored 0%)\n",
            "  adding: content/COMPOSE-master/test_model.py (deflated 73%)\n",
            "  adding: content/COMPOSE-master/README.md (deflated 55%)\n",
            "  adding: content/COMPOSE-master/model.py (deflated 73%)\n",
            "  adding: content/COMPOSE-master/trial_data/ (stored 0%)\n",
            "  adding: content/COMPOSE-master/trial_data/README.md (stored 0%)\n",
            "  adding: content/COMPOSE-master/trial_data/.ipynb_checkpoints/ (stored 0%)\n",
            "  adding: content/COMPOSE-master/trial_data/trial_list (deflated 72%)\n",
            "  adding: content/COMPOSE-master/.ipynb_checkpoints/ (stored 0%)\n",
            "  adding: content/COMPOSE-master/__pycache__/ (stored 0%)\n",
            "  adding: content/COMPOSE-master/__pycache__/model.cpython-310.pyc (deflated 51%)\n",
            "  adding: content/COMPOSE-master/ehr_data/ (stored 0%)\n",
            "  adding: content/COMPOSE-master/ehr_data/procedure_list.csv (deflated 94%)\n",
            "  adding: content/COMPOSE-master/ehr_data/product_list.csv (deflated 82%)\n",
            "  adding: content/COMPOSE-master/ehr_data/README.md (stored 0%)\n",
            "  adding: content/COMPOSE-master/ehr_data/diag_list.csv (deflated 96%)\n",
            "  adding: content/COMPOSE-master/ehr_data/.ipynb_checkpoints/ (stored 0%)\n",
            "  adding: content/COMPOSE-master/ehr_data/records.csv (deflated 75%)\n",
            "  adding: content/COMPOSE-master/train_model.py (deflated 76%)\n",
            "  adding: content/COMPOSE-master/utils/ (stored 0%)\n",
            "  adding: content/COMPOSE-master/utils/filter_trial.py (deflated 68%)\n",
            "  adding: content/COMPOSE-master/utils/generate_emeddings.py (deflated 65%)\n",
            "  adding: content/COMPOSE-master/utils/code_embedding.py (deflated 81%)\n",
            "  adding: content/COMPOSE-master/utils/ECpreprocess.py (deflated 79%)\n",
            "  adding: content/COMPOSE-master/utils/generate_ehr_dataset.py (deflated 83%)\n",
            "  adding: content/COMPOSE-master/save/ (stored 0%)\n",
            "  adding: content/COMPOSE-master/save/README.md (stored 0%)\n",
            "  adding: content/COMPOSE-master/save/.ipynb_checkpoints/ (stored 0%)\n"
          ]
        }
      ]
    }
  ]
}